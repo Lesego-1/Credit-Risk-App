{
 "cells": [
  {
   "cell_type": "code",
   "execution_count": 11,
   "metadata": {},
   "outputs": [],
   "source": [
    "import pandas as pd\n",
    "import warnings\n",
    "warnings.filterwarnings(\"ignore\")\n",
    "from sklearn.model_selection import train_test_split\n",
    "from sklearn.utils import  resample\n",
    "import joblib"
   ]
  },
  {
   "cell_type": "markdown",
   "metadata": {},
   "source": [
    "### Load and sample the data"
   ]
  },
  {
   "cell_type": "code",
   "execution_count": 12,
   "metadata": {},
   "outputs": [
    {
     "name": "stdout",
     "output_type": "stream",
     "text": [
      "Unbalanced target ratio: loan_status\n",
      "0    25473\n",
      "1     7108\n",
      "Name: count, dtype: int64\n",
      "\n",
      "Balanced target ratio: loan_status\n",
      "0    7108\n",
      "1    7108\n",
      "Name: count, dtype: int64\n"
     ]
    }
   ],
   "source": [
    "df = pd.read_csv(r\"../credit_risk_dataset/credit_risk_dataset.csv\")\n",
    "\n",
    "# Check the balance of the target data\n",
    "target_ratio = df[\"loan_status\"].value_counts()\n",
    "print(f\"Unbalanced target ratio: {target_ratio}\\n\")\n",
    "\n",
    "def random_oversampling(df:pd.DataFrame, target:str):\n",
    "    # Balance out the target variables by increasing the number of samples in the minority class\n",
    "    \n",
    "    df_majority = df[df[target] == 0]  # Majority class (low risk)\n",
    "    df_minority = df[df[target] == 1]  # Minority class (high risk)\n",
    "\n",
    "    # Upsample minority class\n",
    "    df_minority_upsampled = resample(df_minority, \n",
    "        replace=True,    # Sample with replacement\n",
    "        n_samples=len(df_majority),  # Match majority class size\n",
    "        random_state=42)\n",
    "\n",
    "    # Combine majority class with upsampled minority class\n",
    "    df_balanced = pd.concat([df_majority, df_minority_upsampled])\n",
    "\n",
    "    # Shuffle dataset\n",
    "    df_balanced = df_balanced.sample(frac=1, random_state=42).reset_index(drop=True)\n",
    "\n",
    "    print(f\"Balanced target ratio: {df_balanced[target].value_counts()}\")\n",
    "    \n",
    "    return df_balanced\n",
    "\n",
    "def random_undersampling(df:pd.DataFrame, target:str):\n",
    "    # Reduces the number of samples from the majority class\n",
    "    \n",
    "    df_majority = df[df[target] == 0]  # Majority class (low risk)\n",
    "    df_minority = df[df[target] == 1]  # Minority class (high risk)\n",
    "    \n",
    "    # Downsample majority class\n",
    "    df_majority_downsampled = resample(df_majority, \n",
    "        replace=False,    # Sample without replacement\n",
    "        n_samples=len(df_minority),  # Match minority class size\n",
    "        random_state=42)\n",
    "\n",
    "    # Combine downsampled majority class with minority class\n",
    "    df_balanced = pd.concat([df_majority_downsampled, df_minority])\n",
    "\n",
    "    # Shuffle dataset\n",
    "    df_balanced = df_balanced.sample(frac=1, random_state=42).reset_index(drop=True)\n",
    "\n",
    "    print(f\"Balanced target ratio: {df_balanced[target].value_counts()}\")\n",
    "    \n",
    "    return df_balanced\n",
    "\n",
    "balanced_df = random_undersampling(df, \"loan_status\")\n",
    "\n",
    "# sample_size = 10000  # Define sample size\n",
    "# balanced_df, _ = train_test_split(balanced_df, train_size=sample_size, stratify=balanced_df[\"loan_status\"], random_state=42)  # Sample the data"
   ]
  },
  {
   "cell_type": "markdown",
   "metadata": {},
   "source": [
    "### Clean Up Data"
   ]
  },
  {
   "cell_type": "code",
   "execution_count": null,
   "metadata": {},
   "outputs": [
    {
     "name": "stdout",
     "output_type": "stream",
     "text": [
      "Amount of duplicate rows: 34\n",
      "\n",
      "\n",
      "person_age                      int64\n",
      "person_income                   int64\n",
      "person_home_ownership          object\n",
      "person_emp_length             float64\n",
      "loan_intent                    object\n",
      "loan_grade                     object\n",
      "loan_amnt                       int64\n",
      "loan_int_rate                 float64\n",
      "loan_status                     int64\n",
      "loan_percent_income           float64\n",
      "cb_person_default_on_file      object\n",
      "cb_person_cred_hist_length      int64\n",
      "dtype: object\n"
     ]
    },
    {
     "data": {
      "application/vnd.microsoft.datawrangler.viewer.v0+json": {
       "columns": [
        {
         "name": "index",
         "rawType": "int64",
         "type": "integer"
        },
        {
         "name": "person_age",
         "rawType": "int64",
         "type": "integer"
        },
        {
         "name": "person_income",
         "rawType": "int64",
         "type": "integer"
        },
        {
         "name": "person_home_ownership",
         "rawType": "object",
         "type": "string"
        },
        {
         "name": "person_emp_length",
         "rawType": "float64",
         "type": "float"
        },
        {
         "name": "loan_intent",
         "rawType": "object",
         "type": "string"
        },
        {
         "name": "loan_grade",
         "rawType": "object",
         "type": "string"
        },
        {
         "name": "loan_amnt",
         "rawType": "int64",
         "type": "integer"
        },
        {
         "name": "loan_int_rate",
         "rawType": "float64",
         "type": "float"
        },
        {
         "name": "loan_status",
         "rawType": "int64",
         "type": "integer"
        },
        {
         "name": "loan_percent_income",
         "rawType": "float64",
         "type": "float"
        },
        {
         "name": "cb_person_default_on_file",
         "rawType": "object",
         "type": "string"
        },
        {
         "name": "cb_person_cred_hist_length",
         "rawType": "int64",
         "type": "integer"
        }
       ],
       "conversionMethod": "pd.DataFrame",
       "ref": "9fe007f2-2731-4c1a-af0a-6659fe80a875",
       "rows": [
        [
         "0",
         "22",
         "59000",
         "RENT",
         "123.0",
         "PERSONAL",
         "D",
         "35000",
         "16.02",
         "1",
         "0.59",
         "Y",
         "3"
        ],
        [
         "1",
         "21",
         "9600",
         "OWN",
         "5.0",
         "EDUCATION",
         "B",
         "1000",
         "11.14",
         "0",
         "0.1",
         "N",
         "2"
        ],
        [
         "2",
         "25",
         "9600",
         "MORTGAGE",
         "1.0",
         "MEDICAL",
         "C",
         "5500",
         "12.87",
         "1",
         "0.57",
         "N",
         "3"
        ],
        [
         "3",
         "23",
         "65500",
         "RENT",
         "4.0",
         "MEDICAL",
         "C",
         "35000",
         "15.23",
         "1",
         "0.53",
         "N",
         "2"
        ],
        [
         "4",
         "24",
         "54400",
         "RENT",
         "8.0",
         "MEDICAL",
         "C",
         "35000",
         "14.27",
         "1",
         "0.55",
         "Y",
         "4"
        ]
       ],
       "shape": {
        "columns": 12,
        "rows": 5
       }
      },
      "text/html": [
       "<div>\n",
       "<style scoped>\n",
       "    .dataframe tbody tr th:only-of-type {\n",
       "        vertical-align: middle;\n",
       "    }\n",
       "\n",
       "    .dataframe tbody tr th {\n",
       "        vertical-align: top;\n",
       "    }\n",
       "\n",
       "    .dataframe thead th {\n",
       "        text-align: right;\n",
       "    }\n",
       "</style>\n",
       "<table border=\"1\" class=\"dataframe\">\n",
       "  <thead>\n",
       "    <tr style=\"text-align: right;\">\n",
       "      <th></th>\n",
       "      <th>person_age</th>\n",
       "      <th>person_income</th>\n",
       "      <th>person_home_ownership</th>\n",
       "      <th>person_emp_length</th>\n",
       "      <th>loan_intent</th>\n",
       "      <th>loan_grade</th>\n",
       "      <th>loan_amnt</th>\n",
       "      <th>loan_int_rate</th>\n",
       "      <th>loan_status</th>\n",
       "      <th>loan_percent_income</th>\n",
       "      <th>cb_person_default_on_file</th>\n",
       "      <th>cb_person_cred_hist_length</th>\n",
       "    </tr>\n",
       "  </thead>\n",
       "  <tbody>\n",
       "    <tr>\n",
       "      <th>0</th>\n",
       "      <td>22</td>\n",
       "      <td>59000</td>\n",
       "      <td>RENT</td>\n",
       "      <td>123.0</td>\n",
       "      <td>PERSONAL</td>\n",
       "      <td>D</td>\n",
       "      <td>35000</td>\n",
       "      <td>16.02</td>\n",
       "      <td>1</td>\n",
       "      <td>0.59</td>\n",
       "      <td>Y</td>\n",
       "      <td>3</td>\n",
       "    </tr>\n",
       "    <tr>\n",
       "      <th>1</th>\n",
       "      <td>21</td>\n",
       "      <td>9600</td>\n",
       "      <td>OWN</td>\n",
       "      <td>5.0</td>\n",
       "      <td>EDUCATION</td>\n",
       "      <td>B</td>\n",
       "      <td>1000</td>\n",
       "      <td>11.14</td>\n",
       "      <td>0</td>\n",
       "      <td>0.10</td>\n",
       "      <td>N</td>\n",
       "      <td>2</td>\n",
       "    </tr>\n",
       "    <tr>\n",
       "      <th>2</th>\n",
       "      <td>25</td>\n",
       "      <td>9600</td>\n",
       "      <td>MORTGAGE</td>\n",
       "      <td>1.0</td>\n",
       "      <td>MEDICAL</td>\n",
       "      <td>C</td>\n",
       "      <td>5500</td>\n",
       "      <td>12.87</td>\n",
       "      <td>1</td>\n",
       "      <td>0.57</td>\n",
       "      <td>N</td>\n",
       "      <td>3</td>\n",
       "    </tr>\n",
       "    <tr>\n",
       "      <th>3</th>\n",
       "      <td>23</td>\n",
       "      <td>65500</td>\n",
       "      <td>RENT</td>\n",
       "      <td>4.0</td>\n",
       "      <td>MEDICAL</td>\n",
       "      <td>C</td>\n",
       "      <td>35000</td>\n",
       "      <td>15.23</td>\n",
       "      <td>1</td>\n",
       "      <td>0.53</td>\n",
       "      <td>N</td>\n",
       "      <td>2</td>\n",
       "    </tr>\n",
       "    <tr>\n",
       "      <th>4</th>\n",
       "      <td>24</td>\n",
       "      <td>54400</td>\n",
       "      <td>RENT</td>\n",
       "      <td>8.0</td>\n",
       "      <td>MEDICAL</td>\n",
       "      <td>C</td>\n",
       "      <td>35000</td>\n",
       "      <td>14.27</td>\n",
       "      <td>1</td>\n",
       "      <td>0.55</td>\n",
       "      <td>Y</td>\n",
       "      <td>4</td>\n",
       "    </tr>\n",
       "  </tbody>\n",
       "</table>\n",
       "</div>"
      ],
      "text/plain": [
       "   person_age  person_income person_home_ownership  person_emp_length  \\\n",
       "0          22          59000                  RENT              123.0   \n",
       "1          21           9600                   OWN                5.0   \n",
       "2          25           9600              MORTGAGE                1.0   \n",
       "3          23          65500                  RENT                4.0   \n",
       "4          24          54400                  RENT                8.0   \n",
       "\n",
       "  loan_intent loan_grade  loan_amnt  loan_int_rate  loan_status  \\\n",
       "0    PERSONAL          D      35000          16.02            1   \n",
       "1   EDUCATION          B       1000          11.14            0   \n",
       "2     MEDICAL          C       5500          12.87            1   \n",
       "3     MEDICAL          C      35000          15.23            1   \n",
       "4     MEDICAL          C      35000          14.27            1   \n",
       "\n",
       "   loan_percent_income cb_person_default_on_file  cb_person_cred_hist_length  \n",
       "0                 0.59                         Y                           3  \n",
       "1                 0.10                         N                           2  \n",
       "2                 0.57                         N                           3  \n",
       "3                 0.53                         N                           2  \n",
       "4                 0.55                         Y                           4  "
      ]
     },
     "execution_count": 13,
     "metadata": {},
     "output_type": "execute_result"
    }
   ],
   "source": [
    "# \"loan_int_rate\", \"person_emp_length\" :  Cols with missing values\n",
    "\n",
    "def replace_incorrect_vals(col_val:int):\n",
    "    # Replaces incorrect employemnt length values with the mean of the column\n",
    "    median_val = df[\"person_emp_length\"].median()\n",
    "    \n",
    "    if col_val > 47:  # Max year assumes that employee started at 18 and retired at 64\n",
    "        return median_val\n",
    "    else:\n",
    "        return col_val\n",
    "    \n",
    "\n",
    "balanced_df[\"person_emp_length\"] = balanced_df[\"person_emp_length\"].apply(replace_incorrect_vals)\n",
    "balanced_df[\"person_emp_length\"].fillna(df['person_emp_length'].median(), inplace=True)  # Fill the rest of the missing values with median\n",
    "# balanced_df[\"loan_int_rate\"].fillna(round(df['loan_int_rate'].mean(), 2), inplace=True)  \n",
    "balanced_df[\"loan_int_rate\"] = balanced_df.groupby(\"loan_status\")[\"loan_int_rate\"].transform(lambda x: x.fillna(x.median())) # Fill missing values with median\n",
    "\n",
    "# Check for duplicated rows\n",
    "duplicate_rows = balanced_df.duplicated().sum()\n",
    "print(f\"Amount of duplicate rows: {duplicate_rows}\\n\\n\")  # 0 duplicate rows\n",
    "\n",
    "balanced_df[\"cb_person_default_on_file\"] = balanced_df[\"cb_person_default_on_file\"].replace({'N':\"No\", 'Y':\"Yes\"})  # Replace N and Y with 0 and 1\n",
    "\n",
    "# Check datatypes of the columns\n",
    "print(balanced_df.dtypes)\n",
    "\n",
    "# Save non One Hot Encoded Columns\n",
    "cols = balanced_df.drop(\"loan_status\", axis=1).columns  # Store all non One Hot Encoded features\n",
    "joblib.dump(cols, r\"../CreditRiskApp/resources/cols.pkl\")\n",
    "\n",
    "# One hot encode the dataframe\n",
    "balanced_df = pd.get_dummies(balanced_df, drop_first=False)\n",
    "\n",
    "# Save one hot encoded columns\n",
    "ohe_features = balanced_df.drop(\"loan_status\", axis=1).columns  # Get all One Hot Encoded Features\n",
    "joblib.dump(ohe_features, r\"../CreditRiskApp/resources/ohe_cols.pkl\")\n",
    "\n",
    "df.head()"
   ]
  },
  {
   "cell_type": "code",
   "execution_count": 14,
   "metadata": {},
   "outputs": [
    {
     "name": "stdout",
     "output_type": "stream",
     "text": [
      "person_age                       -0.023170\n",
      "person_income                    -0.164663\n",
      "person_emp_length                -0.102696\n",
      "loan_amnt                         0.119423\n",
      "loan_int_rate                     0.405588\n",
      "loan_percent_income               0.401856\n",
      "cb_person_cred_hist_length       -0.016554\n",
      "person_home_ownership_MORTGAGE   -0.234007\n",
      "person_home_ownership_OTHER       0.010018\n",
      "person_home_ownership_OWN        -0.139859\n",
      "person_home_ownership_RENT        0.292931\n",
      "loan_intent_DEBTCONSOLIDATION     0.085718\n",
      "loan_intent_EDUCATION            -0.078831\n",
      "loan_intent_HOMEIMPROVEMENT       0.044475\n",
      "loan_intent_MEDICAL               0.073138\n",
      "loan_intent_PERSONAL             -0.022111\n",
      "loan_intent_VENTURE              -0.102802\n",
      "loan_grade_A                     -0.260571\n",
      "loan_grade_B                     -0.117049\n",
      "loan_grade_C                     -0.010880\n",
      "loan_grade_D                      0.313622\n",
      "loan_grade_E                      0.170925\n",
      "loan_grade_F                      0.090193\n",
      "loan_grade_G                      0.065147\n",
      "cb_person_default_on_file_No     -0.203389\n",
      "cb_person_default_on_file_Yes     0.203389\n",
      "Name: loan_status, dtype: float64\n"
     ]
    }
   ],
   "source": [
    "# Print the correlations of all the fetures to the target\n",
    "balanced_df_corr = balanced_df.corr()[\"loan_status\"].drop(\"loan_status\")\n",
    "\n",
    "print(balanced_df_corr)"
   ]
  },
  {
   "cell_type": "markdown",
   "metadata": {},
   "source": [
    "### Save Features and Target values"
   ]
  },
  {
   "cell_type": "code",
   "execution_count": 15,
   "metadata": {},
   "outputs": [],
   "source": [
    "# Define features (X) and target (y) columns\n",
    "X = balanced_df.drop(\"loan_status\", axis=1)\n",
    "y = balanced_df[\"loan_status\"]\n",
    "\n",
    "# Convert into csv and save features and target\n",
    "X.to_csv(\"features.csv\", index=False)\n",
    "y.to_csv(\"target.csv\", index=False)"
   ]
  }
 ],
 "metadata": {
  "kernelspec": {
   "display_name": ".venv",
   "language": "python",
   "name": "python3"
  },
  "language_info": {
   "codemirror_mode": {
    "name": "ipython",
    "version": 3
   },
   "file_extension": ".py",
   "mimetype": "text/x-python",
   "name": "python",
   "nbconvert_exporter": "python",
   "pygments_lexer": "ipython3",
   "version": "3.12.2"
  }
 },
 "nbformat": 4,
 "nbformat_minor": 2
}
